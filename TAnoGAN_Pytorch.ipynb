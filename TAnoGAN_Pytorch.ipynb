{
 "cells": [
  {
   "cell_type": "markdown",
   "metadata": {},
   "source": [
    "## TAnoGAN: Time Series Anomaly Detection with Generative Adversarial Networks\n",
    "\n",
    "Paper link at arXib: https://ieeexplore.ieee.org/abstract/document/9308512/keywords#keywords"
   ]
  },
  {
   "cell_type": "markdown",
   "metadata": {},
   "source": [
    "### Import required libraries"
   ]
  },
  {
   "cell_type": "code",
   "execution_count": 1,
   "metadata": {},
   "outputs": [
    {
     "name": "stderr",
     "output_type": "stream",
     "text": [
      "C:\\Users\\User\\anaconda3\\lib\\site-packages\\numpy\\_distributor_init.py:32: UserWarning: loaded more than 1 DLL from .libs:\n",
      "C:\\Users\\User\\anaconda3\\lib\\site-packages\\numpy\\.libs\\libopenblas.NOIJJG62EMASZI6NYURL6JBKM4EVBGM7.gfortran-win_amd64.dll\n",
      "C:\\Users\\User\\anaconda3\\lib\\site-packages\\numpy\\.libs\\libopenblas.PYQHXLVVQ7VESDPUVUADXEVJOBGHJPAY.gfortran-win_amd64.dll\n",
      "  stacklevel=1)\n"
     ]
    }
   ],
   "source": [
    "import os\n",
    "import random\n",
    "import torch\n",
    "import torch.nn as nn\n",
    "import torch.backends.cudnn as cudnn\n",
    "import torch.optim as optim\n",
    "import torch.utils.data\n",
    "import torchvision\n",
    "import torch.nn.init as init\n",
    "from torch.autograd import Variable\n",
    "import datetime\n",
    "from nab_dataset import NabDataset\n",
    "from models.recurrent_models_pyramid import LSTMGenerator, LSTMDiscriminator"
   ]
  },
  {
   "cell_type": "markdown",
   "metadata": {},
   "source": [
    "#### Define Basic Settings for Adversarial Training"
   ]
  },
  {
   "cell_type": "code",
   "execution_count": 2,
   "metadata": {},
   "outputs": [],
   "source": [
    "class ArgsTrn:\n",
    "    workers=4\n",
    "    batch_size=32\n",
    "    epochs=20\n",
    "    lr=0.0002\n",
    "    cuda = True\n",
    "    manualSeed=2\n",
    "    \n",
    "opt_trn=ArgsTrn()"
   ]
  },
  {
   "cell_type": "code",
   "execution_count": 3,
   "metadata": {},
   "outputs": [],
   "source": [
    "torch.manual_seed(opt_trn.manualSeed)\n",
    "cudnn.benchmark = True"
   ]
  },
  {
   "cell_type": "markdown",
   "metadata": {},
   "source": [
    "### Setup Data Loader"
   ]
  },
  {
   "cell_type": "code",
   "execution_count": 4,
   "metadata": {},
   "outputs": [],
   "source": [
    "# location of datasets and category\n",
    "end_name = 'rogue_agent_key_hold.csv' # dataset name\n",
    "data_file = 'data\\\\realKnownCause\\\\'+end_name # dataset category and dataset name\n",
    "key = 'realKnownCause/'+end_name # This key is used for reading anomaly labels"
   ]
  },
  {
   "cell_type": "code",
   "execution_count": 5,
   "metadata": {},
   "outputs": [],
   "source": [
    "# settings for data loader\n",
    "class DataSettings:\n",
    "    \n",
    "    def __init__(self):\n",
    "        self.BASE = 'D:\\\\ResearchDataGtx1060\\\\AnomalyDetectionData\\\\NabDataset\\\\'\n",
    "        self.label_file = 'labels\\\\combined_windows.json'\n",
    "        self.data_file = data_file\n",
    "        self.key = key\n",
    "        self.train = True\n",
    "        self.window_length = 60\n",
    "    \n",
    "    \n",
    "data_settings = DataSettings()"
   ]
  },
  {
   "cell_type": "code",
   "execution_count": 6,
   "metadata": {},
   "outputs": [
    {
     "data": {
      "text/plain": [
       "(torch.Size([1822, 60, 1]), torch.Size([1822]))"
      ]
     },
     "execution_count": 6,
     "metadata": {},
     "output_type": "execute_result"
    }
   ],
   "source": [
    "# define dataset object and data loader object for NAB dataset\n",
    "dataset = NabDataset(data_settings=data_settings)\n",
    "dataloader = torch.utils.data.DataLoader(dataset, batch_size=opt_trn.batch_size,\n",
    "                                         shuffle=True, num_workers=int(opt_trn.workers))\n",
    "\n",
    "dataset.x.shape, dataset.y.shape # check the dataset shape"
   ]
  },
  {
   "cell_type": "markdown",
   "metadata": {},
   "source": [
    "### Setup Models"
   ]
  },
  {
   "cell_type": "code",
   "execution_count": 7,
   "metadata": {},
   "outputs": [],
   "source": [
    "device = torch.device(\"cuda:0\" if opt_trn.cuda else \"cpu\") # select the device\n",
    "seq_len = dataset.window_length # sequence length is equal to the window length\n",
    "in_dim = dataset.n_feature # input dimension is same as number of feature"
   ]
  },
  {
   "cell_type": "code",
   "execution_count": 8,
   "metadata": {},
   "outputs": [],
   "source": [
    "# Create generator and discriminator models\n",
    "netD = LSTMDiscriminator(in_dim=in_dim, device=device).to(device)\n",
    "netG = LSTMGenerator(in_dim=in_dim, out_dim=in_dim, device=device).to(device)"
   ]
  },
  {
   "cell_type": "code",
   "execution_count": 9,
   "metadata": {},
   "outputs": [
    {
     "name": "stdout",
     "output_type": "stream",
     "text": [
      "|Discriminator Architecture|\n",
      " LSTMDiscriminator(\n",
      "  (lstm): LSTM(1, 100, batch_first=True)\n",
      "  (linear): Sequential(\n",
      "    (0): Linear(in_features=100, out_features=1, bias=True)\n",
      "    (1): Sigmoid()\n",
      "  )\n",
      ")\n",
      "|Generator Architecture|\n",
      " LSTMGenerator(\n",
      "  (lstm0): LSTM(1, 32, batch_first=True)\n",
      "  (lstm1): LSTM(32, 64, batch_first=True)\n",
      "  (lstm2): LSTM(64, 128, batch_first=True)\n",
      "  (linear): Sequential(\n",
      "    (0): Linear(in_features=128, out_features=1, bias=True)\n",
      "    (1): Tanh()\n",
      "  )\n",
      ")\n"
     ]
    }
   ],
   "source": [
    "print(\"|Discriminator Architecture|\\n\", netD)\n",
    "print(\"|Generator Architecture|\\n\", netG)"
   ]
  },
  {
   "cell_type": "code",
   "execution_count": 10,
   "metadata": {},
   "outputs": [],
   "source": [
    "# Setup loss function\n",
    "criterion = nn.BCELoss().to(device)"
   ]
  },
  {
   "cell_type": "code",
   "execution_count": 11,
   "metadata": {},
   "outputs": [],
   "source": [
    "# setup optimizer\n",
    "optimizerD = optim.Adam(netD.parameters(), lr=opt_trn.lr)\n",
    "optimizerG = optim.Adam(netG.parameters(), lr=opt_trn.lr)"
   ]
  },
  {
   "cell_type": "markdown",
   "metadata": {},
   "source": [
    "### Adversarial Training of Generator and Discriminator Models"
   ]
  },
  {
   "cell_type": "code",
   "execution_count": 12,
   "metadata": {},
   "outputs": [
    {
     "name": "stderr",
     "output_type": "stream",
     "text": [
      "C:\\Users\\User\\anaconda3\\lib\\site-packages\\ipykernel_launcher.py:24: UserWarning: nn.init.normal is now deprecated in favor of nn.init.normal_.\n",
      "C:\\Users\\User\\anaconda3\\lib\\site-packages\\ipykernel_launcher.py:38: UserWarning: nn.init.normal is now deprecated in favor of nn.init.normal_.\n"
     ]
    },
    {
     "name": "stdout",
     "output_type": "stream",
     "text": [
      "[0/20][56/57] Loss_D: 1.4847 Loss_G: 0.4562 D(x): 0.6310 D(G(z)): 0.6373 / 0.6354\n",
      "[1/20][56/57] Loss_D: 1.2039 Loss_G: 0.5454 D(x): 0.7438 D(G(z)): 0.5812 / 0.5801\n",
      "[2/20][56/57] Loss_D: 1.5340 Loss_G: 0.4794 D(x): 0.5870 D(G(z)): 0.6242 / 0.6204\n",
      "[3/20][56/57] Loss_D: 1.3915 Loss_G: 0.5452 D(x): 0.6015 D(G(z)): 0.5804 / 0.5804\n",
      "[4/20][56/57] Loss_D: 1.0153 Loss_G: 0.5789 D(x): 0.8411 D(G(z)): 0.5618 / 0.5608\n",
      "[5/20][56/57] Loss_D: 0.7167 Loss_G: 0.8992 D(x): 0.8671 D(G(z)): 0.4128 / 0.4132\n",
      "[6/20][56/57] Loss_D: 0.8623 Loss_G: 0.6947 D(x): 0.8721 D(G(z)): 0.5011 / 0.5000\n",
      "[7/20][56/57] Loss_D: 0.8312 Loss_G: 0.7510 D(x): 0.8751 D(G(z)): 0.4808 / 0.4761\n",
      "[8/20][56/57] Loss_D: 0.9944 Loss_G: 0.9318 D(x): 0.6824 D(G(z)): 0.3978 / 0.3979\n",
      "[9/20][56/57] Loss_D: 0.6810 Loss_G: 0.9043 D(x): 0.8924 D(G(z)): 0.4087 / 0.4092\n",
      "[10/20][56/57] Loss_D: 0.8824 Loss_G: 0.8845 D(x): 0.7695 D(G(z)): 0.4165 / 0.4165\n",
      "[11/20][56/57] Loss_D: 0.7438 Loss_G: 0.8628 D(x): 0.8714 D(G(z)): 0.4273 / 0.4261\n",
      "[12/20][56/57] Loss_D: 0.9007 Loss_G: 0.8477 D(x): 0.7755 D(G(z)): 0.4301 / 0.4301\n",
      "[13/20][56/57] Loss_D: 0.9815 Loss_G: 0.8255 D(x): 0.7380 D(G(z)): 0.4467 / 0.4403\n",
      "[14/20][56/57] Loss_D: 1.2315 Loss_G: 0.8876 D(x): 0.5251 D(G(z)): 0.4143 / 0.4148\n",
      "[15/20][56/57] Loss_D: 1.2631 Loss_G: 0.7989 D(x): 0.5324 D(G(z)): 0.4532 / 0.4532\n",
      "[16/20][56/57] Loss_D: 1.1904 Loss_G: 0.7945 D(x): 0.5769 D(G(z)): 0.4550 / 0.4550\n",
      "[17/20][56/57] Loss_D: 1.1168 Loss_G: 0.8028 D(x): 0.6136 D(G(z)): 0.4512 / 0.4510\n",
      "[18/20][56/57] Loss_D: 0.8529 Loss_G: 0.8605 D(x): 0.7854 D(G(z)): 0.4267 / 0.4265\n",
      "[19/20][56/57] Loss_D: 0.7899 Loss_G: 0.9534 D(x): 0.7891 D(G(z)): 0.3911 / 0.3908\n"
     ]
    }
   ],
   "source": [
    "real_label = 1\n",
    "fake_label = 0\n",
    "\n",
    "for epoch in range(opt_trn.epochs):\n",
    "    for i, (x,y) in enumerate(dataloader, 0):\n",
    "        \n",
    "        ############################\n",
    "        # (1) Update D network: maximize log(D(x)) + log(1 - D(G(z)))\n",
    "        ###########################\n",
    "\n",
    "        #Train with real data\n",
    "        netD.zero_grad()\n",
    "        real = x.to(device)\n",
    "        batch_size, seq_len = real.size(0), real.size(1)\n",
    "        label = torch.full((batch_size, seq_len, 1), real_label, device=device)\n",
    "\n",
    "        output,_ = netD.forward(real)\n",
    "        errD_real = criterion(output, label)\n",
    "        errD_real.backward()\n",
    "        optimizerD.step()\n",
    "        D_x = output.mean().item()\n",
    "        \n",
    "        #Train with fake data\n",
    "        noise = Variable(init.normal(torch.Tensor(batch_size,seq_len,in_dim),mean=0,std=0.1)).cuda()\n",
    "        fake,_ = netG.forward(noise)\n",
    "        output,_ = netD.forward(fake.detach()) # detach causes gradient is no longer being computed or stored to save memeory\n",
    "        label.fill_(fake_label)\n",
    "        errD_fake = criterion(output, label)\n",
    "        errD_fake.backward()\n",
    "        D_G_z1 = output.mean().item()\n",
    "        errD = errD_real + errD_fake\n",
    "        optimizerD.step()\n",
    "        \n",
    "        ############################\n",
    "        # (2) Update G network: maximize log(D(G(z)))\n",
    "        ###########################\n",
    "        netG.zero_grad()\n",
    "        noise = Variable(init.normal(torch.Tensor(batch_size,seq_len,in_dim),mean=0,std=0.1)).cuda()\n",
    "        fake,_ = netG.forward(noise)\n",
    "        label.fill_(real_label) \n",
    "        output,_ = netD.forward(fake)\n",
    "        errG = criterion(output, label)\n",
    "        errG.backward()\n",
    "        optimizerG.step()\n",
    "        D_G_z2 = output.mean().item()\n",
    "        \n",
    "        \n",
    "\n",
    "    print('[%d/%d][%d/%d] Loss_D: %.4f Loss_G: %.4f D(x): %.4f D(G(z)): %.4f / %.4f' \n",
    "          % (epoch, opt_trn.epochs, i, len(dataloader),\n",
    "             errD.item(), errG.item(), D_x, D_G_z1, D_G_z2), end='')\n",
    "    print()"
   ]
  },
  {
   "cell_type": "markdown",
   "metadata": {},
   "source": [
    "## Anomaly Detection"
   ]
  },
  {
   "cell_type": "markdown",
   "metadata": {},
   "source": [
    "#### Define basic settings for inverse mapping"
   ]
  },
  {
   "cell_type": "code",
   "execution_count": 13,
   "metadata": {},
   "outputs": [],
   "source": [
    "class ArgsTest:\n",
    "    workers = 1\n",
    "    batch_size = 1\n",
    "    \n",
    "opt_test=ArgsTest()    "
   ]
  },
  {
   "cell_type": "code",
   "execution_count": 14,
   "metadata": {},
   "outputs": [],
   "source": [
    "generator = netG # changing reference variable \n",
    "discriminator = netD # changing reference variable "
   ]
  },
  {
   "cell_type": "markdown",
   "metadata": {},
   "source": [
    "##### Define Test Data"
   ]
  },
  {
   "cell_type": "code",
   "execution_count": 15,
   "metadata": {},
   "outputs": [],
   "source": [
    "# Define settings for loading data in evaluation mood\n",
    "class TestDataSettings:\n",
    "    \n",
    "    def __init__(self):\n",
    "        self.BASE = 'D:\\\\ResearchDataGtx1060\\\\AnomalyDetectionData\\\\NabDataset\\\\'\n",
    "        self.label_file = 'labels\\\\combined_windows.json'\n",
    "        self.data_file = data_file\n",
    "        self.key = key\n",
    "        self.train = False\n",
    "\n",
    "        \n",
    "test_data_settings = TestDataSettings()\n"
   ]
  },
  {
   "cell_type": "code",
   "execution_count": 16,
   "metadata": {},
   "outputs": [
    {
     "data": {
      "text/plain": [
       "(torch.Size([31, 60, 1]), torch.Size([31]), 31)"
      ]
     },
     "execution_count": 16,
     "metadata": {},
     "output_type": "execute_result"
    }
   ],
   "source": [
    "# define dataset object and data loader object in evaluation mood for NAB dataset\n",
    "\n",
    "test_dataset = NabDataset(test_data_settings)\n",
    "test_dataloader = torch.utils.data.DataLoader(test_dataset, batch_size=opt_test.batch_size, \n",
    "                                         shuffle=False, num_workers=int(opt_test.workers))\n",
    "\n",
    "test_dataset.x.shape, test_dataset.y.shape, test_dataset.data_len # check the dataset shape"
   ]
  },
  {
   "cell_type": "markdown",
   "metadata": {},
   "source": [
    "#### Define a function to calculate anomaly score"
   ]
  },
  {
   "cell_type": "code",
   "execution_count": 17,
   "metadata": {},
   "outputs": [],
   "source": [
    "# Lambda = 0.1 according to paper\n",
    "# x is new data, G_z is closely regenerated data\n",
    "\n",
    "def Anomaly_score(x, G_z, Lambda=0.1):\n",
    "    residual_loss = torch.sum(torch.abs(x-G_z)) # Residual Loss\n",
    "    \n",
    "    # x_feature is a rich intermediate feature representation for real data x\n",
    "    output, x_feature = discriminator(x.to(device)) \n",
    "    # G_z_feature is a rich intermediate feature representation for fake data G(z)\n",
    "    output, G_z_feature = discriminator(G_z.to(device)) \n",
    "    \n",
    "    discrimination_loss = torch.sum(torch.abs(x_feature-G_z_feature)) # Discrimination loss\n",
    "    \n",
    "    total_loss = (1-Lambda)*residual_loss.to(device) + Lambda*discrimination_loss\n",
    "    return total_loss"
   ]
  },
  {
   "cell_type": "markdown",
   "metadata": {},
   "source": [
    "### Inverse mapping to latent space and reconstruction of data for estimating anomaly score"
   ]
  },
  {
   "cell_type": "code",
   "execution_count": 18,
   "metadata": {},
   "outputs": [
    {
     "name": "stdout",
     "output_type": "stream",
     "text": [
      "0 tensor([0.])\n"
     ]
    },
    {
     "name": "stderr",
     "output_type": "stream",
     "text": [
      "C:\\Users\\User\\anaconda3\\lib\\site-packages\\ipykernel_launcher.py:8: UserWarning: nn.init.normal is now deprecated in favor of nn.init.normal_.\n",
      "  \n"
     ]
    },
    {
     "name": "stdout",
     "output_type": "stream",
     "text": [
      "~~~~~~~~loss=105.6102066040039,  y=tensor([0.]) ~~~~~~~~~~\n",
      "1 tensor([0.])\n",
      "~~~~~~~~loss=73.27227020263672,  y=tensor([0.]) ~~~~~~~~~~\n",
      "2 tensor([0.])\n",
      "~~~~~~~~loss=258.1621398925781,  y=tensor([0.]) ~~~~~~~~~~\n",
      "3 tensor([0.])\n",
      "~~~~~~~~loss=95.03199005126953,  y=tensor([0.]) ~~~~~~~~~~\n",
      "4 tensor([0.])\n",
      "~~~~~~~~loss=436.44744873046875,  y=tensor([0.]) ~~~~~~~~~~\n",
      "5 tensor([0.])\n",
      "~~~~~~~~loss=370.67950439453125,  y=tensor([0.]) ~~~~~~~~~~\n",
      "6 tensor([0.])\n",
      "~~~~~~~~loss=385.3450622558594,  y=tensor([0.]) ~~~~~~~~~~\n",
      "7 tensor([0.])\n",
      "~~~~~~~~loss=384.74560546875,  y=tensor([0.]) ~~~~~~~~~~\n",
      "8 tensor([0.])\n",
      "~~~~~~~~loss=73.2047119140625,  y=tensor([0.]) ~~~~~~~~~~\n",
      "9 tensor([0.])\n",
      "~~~~~~~~loss=334.53448486328125,  y=tensor([0.]) ~~~~~~~~~~\n",
      "10 tensor([0.])\n",
      "~~~~~~~~loss=380.54046630859375,  y=tensor([0.]) ~~~~~~~~~~\n",
      "11 tensor([1.])\n",
      "~~~~~~~~loss=385.3644714355469,  y=tensor([1.]) ~~~~~~~~~~\n",
      "12 tensor([1.])\n",
      "~~~~~~~~loss=332.22357177734375,  y=tensor([1.]) ~~~~~~~~~~\n",
      "13 tensor([0.])\n",
      "~~~~~~~~loss=156.5510711669922,  y=tensor([0.]) ~~~~~~~~~~\n",
      "14 tensor([0.])\n",
      "~~~~~~~~loss=380.02166748046875,  y=tensor([0.]) ~~~~~~~~~~\n",
      "15 tensor([0.])\n",
      "~~~~~~~~loss=385.3381652832031,  y=tensor([0.]) ~~~~~~~~~~\n",
      "16 tensor([0.])\n",
      "~~~~~~~~loss=384.0027160644531,  y=tensor([0.]) ~~~~~~~~~~\n",
      "17 tensor([0.])\n",
      "~~~~~~~~loss=385.3344421386719,  y=tensor([0.]) ~~~~~~~~~~\n",
      "18 tensor([0.])\n",
      "~~~~~~~~loss=381.12017822265625,  y=tensor([0.]) ~~~~~~~~~~\n",
      "19 tensor([0.])\n",
      "~~~~~~~~loss=385.3394775390625,  y=tensor([0.]) ~~~~~~~~~~\n",
      "20 tensor([1.])\n",
      "~~~~~~~~loss=385.3532409667969,  y=tensor([1.]) ~~~~~~~~~~\n",
      "21 tensor([1.])\n",
      "~~~~~~~~loss=373.367919921875,  y=tensor([1.]) ~~~~~~~~~~\n",
      "22 tensor([1.])\n",
      "~~~~~~~~loss=492.4294128417969,  y=tensor([1.]) ~~~~~~~~~~\n",
      "23 tensor([0.])\n",
      "~~~~~~~~loss=81.53718566894531,  y=tensor([0.]) ~~~~~~~~~~\n",
      "24 tensor([0.])\n",
      "~~~~~~~~loss=88.17424011230469,  y=tensor([0.]) ~~~~~~~~~~\n",
      "25 tensor([0.])\n",
      "~~~~~~~~loss=102.28819274902344,  y=tensor([0.]) ~~~~~~~~~~\n",
      "26 tensor([0.])\n",
      "~~~~~~~~loss=392.7658996582031,  y=tensor([0.]) ~~~~~~~~~~\n",
      "27 tensor([0.])\n",
      "~~~~~~~~loss=474.3537902832031,  y=tensor([0.]) ~~~~~~~~~~\n",
      "28 tensor([0.])\n",
      "~~~~~~~~loss=195.1626739501953,  y=tensor([0.]) ~~~~~~~~~~\n",
      "29 tensor([0.])\n",
      "~~~~~~~~loss=167.17950439453125,  y=tensor([0.]) ~~~~~~~~~~\n",
      "30 tensor([0.])\n",
      "~~~~~~~~loss=82.25680541992188,  y=tensor([0.]) ~~~~~~~~~~\n"
     ]
    }
   ],
   "source": [
    "loss_list = []\n",
    "#y_list = []\n",
    "for i, (x,y) in enumerate(test_dataloader):\n",
    "    print(i, y)\n",
    "    \n",
    "    z = Variable(init.normal(torch.zeros(opt_test.batch_size,\n",
    "                                     test_dataset.window_length, \n",
    "                                     test_dataset.n_feature),mean=0,std=0.1),requires_grad=True)\n",
    "    #z = x\n",
    "    z_optimizer = torch.optim.Adam([z],lr=1e-2)\n",
    "    \n",
    "    loss = None\n",
    "    for j in range(50): # set your interation range\n",
    "        gen_fake,_ = generator(z.cuda())\n",
    "        loss = Anomaly_score(Variable(x).cuda(), gen_fake)\n",
    "        loss.backward()\n",
    "        z_optimizer.step()\n",
    "\n",
    "    loss_list.append(loss) # Store the loss from the final iteration\n",
    "    #y_list.append(y) # Store the corresponding anomaly label\n",
    "    print('~~~~~~~~loss={},  y={} ~~~~~~~~~~'.format(loss, y))\n",
    "    #break"
   ]
  },
  {
   "cell_type": "markdown",
   "metadata": {},
   "source": [
    "### Visualise Anomaly Detection"
   ]
  },
  {
   "cell_type": "code",
   "execution_count": 28,
   "metadata": {},
   "outputs": [
    {
     "data": {
      "image/png": "[encoded data removed]",
      "text/plain": [
       "<Figure size 432x288 with 1 Axes>"
      ]
     },
     "metadata": {
      "needs_background": "light"
     },
     "output_type": "display_data"
    }
   ],
   "source": [
    "import pandas as pd\n",
    "import matplotlib.pyplot as plt\n",
    "\n",
    "THRESHOLD = 7.95 # Anomaly score threshold for an instance to be considered as anomaly \n",
    "\n",
    "#TIME_STEPS = dataset.window_length\n",
    "test_score_df = pd.DataFrame(index=range(test_dataset.data_len))\n",
    "test_score_df['loss'] = [loss.item()/test_dataset.window_length for loss in loss_list]\n",
    "test_score_df['y'] = test_dataset.y\n",
    "test_score_df['threshold'] = THRESHOLD\n",
    "test_score_df['anomaly'] = test_score_df.loss > test_score_df.threshold\n",
    "test_score_df['t'] = [x[59].item() for x in test_dataset.x]\n",
    "\n",
    "plt.plot(test_score_df.index, test_score_df.loss, label='loss')\n",
    "plt.plot(test_score_df.index, test_score_df.threshold, label='threshold')\n",
    "plt.plot(test_score_df.index, test_score_df.y, label='y')\n",
    "plt.xticks(rotation=25)\n",
    "plt.legend();"
   ]
  },
  {
   "cell_type": "code",
   "execution_count": 20,
   "metadata": {
    "scrolled": false
   },
   "outputs": [
    {
     "data": {
      "image/png": "[encoded data removed]",
      "text/plain": [
       "<Figure size 432x288 with 1 Axes>"
      ]
     },
     "metadata": {
      "needs_background": "light"
     },
     "output_type": "display_data"
    }
   ],
   "source": [
    "import seaborn as sns\n",
    "\n",
    "anomalies = test_score_df[test_score_df.anomaly == True]\n",
    "\n",
    "plt.plot(\n",
    "  range(test_dataset.data_len), \n",
    "  test_score_df['t'], \n",
    "  label='value'\n",
    ");\n",
    "\n",
    "sns.scatterplot(\n",
    "  anomalies.index,\n",
    "  anomalies.t,\n",
    "  color=sns.color_palette()[3],\n",
    "  s=52,\n",
    "  label='anomaly'\n",
    ")\n",
    "\n",
    "plt.plot(\n",
    "  range(len(test_score_df['y'])),\n",
    "  test_score_df['y'],\n",
    "  label='y'\n",
    ")\n",
    "\n",
    "plt.xticks(rotation=25)\n",
    "plt.legend();"
   ]
  },
  {
   "cell_type": "markdown",
   "metadata": {},
   "source": [
    "### Calculate the window-based anomalies"
   ]
  },
  {
   "cell_type": "code",
   "execution_count": 21,
   "metadata": {},
   "outputs": [],
   "source": [
    "import numpy as np\n",
    "start_end = []\n",
    "state = 0\n",
    "for idx in test_score_df.index:\n",
    "    if state==0 and test_score_df.loc[idx, 'y']==1:\n",
    "        state=1\n",
    "        start = idx\n",
    "    if state==1 and test_score_df.loc[idx, 'y']==0:\n",
    "        state = 0\n",
    "        end = idx\n",
    "        start_end.append((start, end))\n",
    "\n",
    "for s_e in start_end:\n",
    "    if sum(test_score_df[s_e[0]:s_e[1]+1]['anomaly'])>0:\n",
    "        for i in range(s_e[0], s_e[1]+1):\n",
    "            test_score_df.loc[i, 'anomaly'] = 1\n",
    "            \n",
    "actual = np.array(test_score_df['y'])\n",
    "predicted = np.array([int(a) for a in test_score_df['anomaly']])"
   ]
  },
  {
   "cell_type": "markdown",
   "metadata": {},
   "source": [
    "### Calculate measurement scores"
   ]
  },
  {
   "cell_type": "code",
   "execution_count": 22,
   "metadata": {},
   "outputs": [
    {
     "name": "stdout",
     "output_type": "stream",
     "text": [
      "True Positive\t 3\n",
      "True Negative\t 24\n",
      "False Positive\t 2\n",
      "False Negative\t 2\n",
      "Accuracy\t 0.8709677419354839\n",
      "Precision\t 0.6\n",
      "Recall\t 0.6\n",
      "f-measure\t 0.6\n",
      "cohen_kappa_score\t 0.523076923076923\n",
      "auc\t 0.7615384615384616\n",
      "roc_auc\t 0.7615384615384616\n"
     ]
    }
   ],
   "source": [
    "import numpy as np\n",
    "from sklearn.metrics import cohen_kappa_score\n",
    "from sklearn.metrics import roc_curve, auc, roc_auc_score\n",
    "\n",
    "predicted = np.array(predicted)\n",
    "actual = np.array(actual)\n",
    "\n",
    "tp = np.count_nonzero(predicted * actual)\n",
    "tn = np.count_nonzero((predicted - 1) * (actual - 1))\n",
    "fp = np.count_nonzero(predicted * (actual - 1))\n",
    "fn = np.count_nonzero((predicted - 1) * actual)\n",
    "\n",
    "print('True Positive\\t', tp)\n",
    "print('True Negative\\t', tn)\n",
    "print('False Positive\\t', fp)\n",
    "print('False Negative\\t', fn)\n",
    "\n",
    "accuracy = (tp + tn) / (tp + fp + fn + tn)\n",
    "precision = tp / (tp + fp)\n",
    "recall = tp / (tp + fn)\n",
    "fmeasure = (2 * precision * recall) / (precision + recall)\n",
    "cohen_kappa_score = cohen_kappa_score(predicted, actual)\n",
    "false_positive_rate, true_positive_rate, thresholds = roc_curve(actual, predicted)\n",
    "auc_val = auc(false_positive_rate, true_positive_rate)\n",
    "roc_auc_val = roc_auc_score(actual, predicted)\n",
    "\n",
    "print('Accuracy\\t', accuracy)\n",
    "print('Precision\\t', precision)\n",
    "print('Recall\\t', recall)\n",
    "print('f-measure\\t', fmeasure)\n",
    "print('cohen_kappa_score\\t', cohen_kappa_score)\n",
    "print('auc\\t', auc_val)\n",
    "print('roc_auc\\t', roc_auc_val)"
   ]
  },
  {
   "cell_type": "code",
   "execution_count": 23,
   "metadata": {},
   "outputs": [],
   "source": [
    "# import winsound\n",
    "# frequency = 200  # Set Frequency To 2500 Hertz\n",
    "# duration = 2000  # Set Duration To 1000 ms == 1 second\n",
    "# winsound.Beep(frequency, duration)"
   ]
  }
 ],
 "metadata": {
  "kernelspec": {
   "display_name": "Python 3",
   "language": "python",
   "name": "python3"
  },
  "language_info": {
   "codemirror_mode": {
    "name": "ipython",
    "version": 3
   },
   "file_extension": ".py",
   "mimetype": "text/x-python",
   "name": "python",
   "nbconvert_exporter": "python",
   "pygments_lexer": "ipython3",
   "version": "3.7.6"
  }
 },
 "nbformat": 4,
 "nbformat_minor": 4
}
